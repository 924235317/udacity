{
 "cells": [
  {
   "cell_type": "markdown",
   "metadata": {},
   "source": [
    "# 泰坦尼克号数据分析  \n",
    "## 1. 研究问题：  \n",
    "根据已有数据，选择以下问题进行研究：\n",
    "- 什么特征会影响最后的生还率  \n",
    "\n",
    "首先将数据读入并进行简单观察"
   ]
  },
  {
   "cell_type": "code",
   "execution_count": 1,
   "metadata": {
    "scrolled": true
   },
   "outputs": [
    {
     "name": "stdout",
     "output_type": "stream",
     "text": [
      "<class 'pandas.core.frame.DataFrame'>\n",
      "RangeIndex: 891 entries, 0 to 890\n",
      "Data columns (total 12 columns):\n",
      "PassengerId    891 non-null int64\n",
      "Survived       891 non-null int64\n",
      "Pclass         891 non-null int64\n",
      "Name           891 non-null object\n",
      "Sex            891 non-null object\n",
      "Age            714 non-null float64\n",
      "SibSp          891 non-null int64\n",
      "Parch          891 non-null int64\n",
      "Ticket         891 non-null object\n",
      "Fare           891 non-null float64\n",
      "Cabin          204 non-null object\n",
      "Embarked       889 non-null object\n",
      "dtypes: float64(2), int64(5), object(5)\n",
      "memory usage: 83.6+ KB\n",
      "None\n"
     ]
    }
   ],
   "source": [
    "import numpy as np\n",
    "import pandas as pd\n",
    "\n",
    "data = pd.read_csv('./titanic-data .csv')\n",
    "print( data.info())"
   ]
  },
  {
   "cell_type": "markdown",
   "metadata": {},
   "source": [
    "通过观察数据，进行以下猜测：  \n",
    "- 女性生还几率高  \n",
    "- 孩子生还几率高  \n",
    "- 船舱等级高生还几率高"
   ]
  },
  {
   "cell_type": "markdown",
   "metadata": {},
   "source": [
    "## 2. 单变量分析  \n",
    "### 2.1 女性生还几率高  \n",
    "首先获取数据。"
   ]
  },
  {
   "cell_type": "code",
   "execution_count": 2,
   "metadata": {},
   "outputs": [],
   "source": [
    "data_sex = data[['Survived', 'Sex']]"
   ]
  },
  {
   "cell_type": "markdown",
   "metadata": {},
   "source": [
    "之后观察数据:"
   ]
  },
  {
   "cell_type": "code",
   "execution_count": 3,
   "metadata": {},
   "outputs": [
    {
     "name": "stdout",
     "output_type": "stream",
     "text": [
      "        Survived\n",
      "Sex             \n",
      "female       314\n",
      "male         577\n"
     ]
    },
    {
     "data": {
      "text/plain": [
       "array([<matplotlib.axes._subplots.AxesSubplot object at 0x000001E596885860>], dtype=object)"
      ]
     },
     "execution_count": 3,
     "metadata": {},
     "output_type": "execute_result"
    },
    {
     "data": {
      "image/png": "[encoded data removed]",
      "text/plain": [
       "<matplotlib.figure.Figure at 0x1e595f5ccc0>"
      ]
     },
     "metadata": {},
     "output_type": "display_data"
    }
   ],
   "source": [
    "group_sex = data_sex.groupby('Sex')\n",
    "group_sex_total = group_sex.count()\n",
    "print( group_sex_total)\n",
    "\n",
    "%matplotlib inline\n",
    "\n",
    "group_sex_total.plot(kind='pie', subplots=True)"
   ]
  },
  {
   "cell_type": "markdown",
   "metadata": {},
   "source": [
    "男女比例差距比较大，女性样本较少，不能直接使用生还人数来作为标准，应该使用生还率。"
   ]
  },
  {
   "cell_type": "code",
   "execution_count": 4,
   "metadata": {},
   "outputs": [
    {
     "name": "stdout",
     "output_type": "stream",
     "text": [
      "        Survived\n",
      "Sex             \n",
      "female  0.742038\n",
      "male    0.188908\n"
     ]
    }
   ],
   "source": [
    "group_sex_survived = group_sex.sum()\n",
    "group_sex_survived_ratio = group_sex_survived / group_sex_total\n",
    "print( group_sex_survived_ratio)"
   ]
  },
  {
   "cell_type": "markdown",
   "metadata": {},
   "source": [
    "画出图像如下："
   ]
  },
  {
   "cell_type": "code",
   "execution_count": 5,
   "metadata": {
    "scrolled": true
   },
   "outputs": [
    {
     "data": {
      "text/plain": [
       "<matplotlib.axes._subplots.AxesSubplot at 0x1e5968bd9e8>"
      ]
     },
     "execution_count": 5,
     "metadata": {},
     "output_type": "execute_result"
    },
    {
     "data": {
      "image/png": "[encoded data removed]",
      "text/plain": [
       "<matplotlib.figure.Figure at 0x1e595f5cc50>"
      ]
     },
     "metadata": {},
     "output_type": "display_data"
    }
   ],
   "source": [
    "%matplotlib inline\n",
    "\n",
    "group_sex_survived_ratio.plot(kind='bar')\n"
   ]
  },
  {
   "cell_type": "markdown",
   "metadata": {},
   "source": [
    "由此可以得出结论：女性比男性生还率高\n",
    "### 2.2 小孩生还几率高  \n",
    "首先获取数据，并对数据的缺失值进行处理，因为缺失的部分对分析结果影响不大，因此可以抛弃。"
   ]
  },
  {
   "cell_type": "code",
   "execution_count": 6,
   "metadata": {},
   "outputs": [],
   "source": [
    "data_age = data[['Survived', 'Age']].dropna() "
   ]
  },
  {
   "cell_type": "markdown",
   "metadata": {},
   "source": [
    "同样的，使用生还率来衡量生还几率，并规定年龄为10岁以下为小孩。对数据进行相应处理："
   ]
  },
  {
   "cell_type": "code",
   "execution_count": 7,
   "metadata": {},
   "outputs": [
    {
     "data": {
      "image/png": "[encoded data removed]",
      "text/plain": [
       "<matplotlib.figure.Figure at 0x1e596ed3f28>"
      ]
     },
     "metadata": {},
     "output_type": "display_data"
    }
   ],
   "source": [
    "def is_child(age):\n",
    "    if age <= 10 and age >= 0:\n",
    "        return 'child'\n",
    "    else:\n",
    "        return 'adult'\n",
    "    \n",
    "    \n",
    "data_age['is_child'] = data_age['Age'].map(is_child)\n",
    "group_children = data_age[['Survived', 'is_child']].groupby('is_child')\n",
    "\n",
    "%matplotlib inline\n",
    "group_children_total = group_children.count()\n",
    "group_children_total.plot(kind='pie', subplots=True)\n",
    "\n",
    "group_children_survived = group_children.sum()\n",
    "group_children_survived_ratio = group_children_survived / group_children_total\n",
    "#print group_children_survived_ratio"
   ]
  },
  {
   "cell_type": "markdown",
   "metadata": {},
   "source": [
    "可以看到，儿童样本比例较低，样本数量少，画出柱状图如下："
   ]
  },
  {
   "cell_type": "code",
   "execution_count": 15,
   "metadata": {},
   "outputs": [
    {
     "data": {
      "text/plain": [
       "<matplotlib.axes._subplots.AxesSubplot at 0x1e5980787b8>"
      ]
     },
     "execution_count": 15,
     "metadata": {},
     "output_type": "execute_result"
    },
    {
     "data": {
      "image/png": "[encoded data removed]",
      "text/plain": [
       "<matplotlib.figure.Figure at 0x1e597fffeb8>"
      ]
     },
     "metadata": {},
     "output_type": "display_data"
    }
   ],
   "source": [
    "%matplotlib inline\n",
    "\n",
    "group_children_survived_ratio.plot(kind='bar')"
   ]
  },
  {
   "cell_type": "markdown",
   "metadata": {},
   "source": [
    "由此可以得到结论：小孩生还率更高  \n",
    "### 2.3 船舱等级高生还几率高  \n",
    "首先获取数据。"
   ]
  },
  {
   "cell_type": "code",
   "execution_count": 9,
   "metadata": {
    "collapsed": true
   },
   "outputs": [],
   "source": [
    "data_pclass = data[['Survived', 'Pclass']]"
   ]
  },
  {
   "cell_type": "markdown",
   "metadata": {},
   "source": [
    "同样的，使用生还率来衡量生还几率："
   ]
  },
  {
   "cell_type": "code",
   "execution_count": 10,
   "metadata": {},
   "outputs": [
    {
     "data": {
      "image/png": "[encoded data removed]",
      "text/plain": [
       "<matplotlib.figure.Figure at 0x1e596f6ce10>"
      ]
     },
     "metadata": {},
     "output_type": "display_data"
    }
   ],
   "source": [
    "group_pclass = data_pclass.groupby('Pclass')\n",
    "\n",
    "%matplotlib inline\n",
    "group_pclass_total = group_pclass.count()\n",
    "group_pclass_total.plot(kind='pie', subplots=True)\n",
    "\n",
    "group_pclass_survived = group_pclass.sum()\n",
    "group_pclass_survived_ratio = group_pclass_survived / group_pclass_total\n",
    "\n",
    "#print group_pclass_survived_ratio"
   ]
  },
  {
   "cell_type": "markdown",
   "metadata": {},
   "source": [
    "可以看到，一等船舱和二等船舱的样本数量接近，但是三等船舱的样本数量比其他等级高出很多，画出图像："
   ]
  },
  {
   "cell_type": "code",
   "execution_count": 11,
   "metadata": {},
   "outputs": [
    {
     "data": {
      "text/plain": [
       "array([<matplotlib.axes._subplots.AxesSubplot object at 0x000001E596F6CDA0>], dtype=object)"
      ]
     },
     "execution_count": 11,
     "metadata": {},
     "output_type": "execute_result"
    },
    {
     "data": {
      "image/png": "[encoded data removed]",
      "text/plain": [
       "<matplotlib.figure.Figure at 0x1e596fa2eb8>"
      ]
     },
     "metadata": {},
     "output_type": "display_data"
    }
   ],
   "source": [
    "%matplotlib inline\n",
    "\n",
    "group_pclass_survived_ratio.plot(kind='bar', subplots=True)"
   ]
  },
  {
   "cell_type": "markdown",
   "metadata": {},
   "source": [
    "可以得出结论：船舱等级越高，生还率越高  \n",
    "## 3.多变量分析  \n",
    "### 3.1 性别和船舱等级"
   ]
  },
  {
   "cell_type": "code",
   "execution_count": 12,
   "metadata": {},
   "outputs": [
    {
     "name": "stdout",
     "output_type": "stream",
     "text": [
      "               Survived\n",
      "Pclass Sex             \n",
      "1      female        94\n",
      "       male         122\n",
      "2      female        76\n",
      "       male         108\n",
      "3      female       144\n",
      "       male         347\n",
      "               Survived\n",
      "Pclass Sex             \n",
      "1      female        91\n",
      "       male          45\n",
      "2      female        70\n",
      "       male          17\n",
      "3      female        72\n",
      "       male          47\n"
     ]
    },
    {
     "data": {
      "text/plain": [
       "Text(0,0.5,'Survival Rate')"
      ]
     },
     "execution_count": 12,
     "metadata": {},
     "output_type": "execute_result"
    },
    {
     "data": {
      "image/png": "[encoded data removed]",
      "text/plain": [
       "<matplotlib.figure.Figure at 0x1e598033320>"
      ]
     },
     "metadata": {},
     "output_type": "display_data"
    }
   ],
   "source": [
    "data_pclass_sex = data[['Survived', 'Pclass', 'Sex']]\n",
    "\n",
    "group_pclass_sex = data_pclass_sex.groupby(['Pclass', 'Sex'])\n",
    "\n",
    "group_pclass_sex_total = group_pclass_sex.count()\n",
    "group_pclass_sex_survived = group_pclass_sex.sum()\n",
    "\n",
    "print(group_pclass_sex_total)\n",
    "print(group_pclass_sex_survived)\n",
    "\n",
    "group_pclass_sex_ratio = group_pclass_sex_survived / group_pclass_sex_total\n",
    "axis_pclass_sex = group_pclass_sex_ratio.unstack().plot(kind='bar')\n",
    "axis_pclass_sex.set_title('Sex and PClass and Survival ratio')\n",
    "axis_pclass_sex.set_ylabel('Survival Rate')"
   ]
  },
  {
   "cell_type": "markdown",
   "metadata": {},
   "source": [
    "可以得到结论：女性的生还率明显高于男性，但是三等船舱的女性生还几率要低于前两个等级；一等船舱的男性生还几率要高于二、三等船舱的男性，但是二、三等船舱的男性生还率没有明显差别。"
   ]
  },
  {
   "cell_type": "markdown",
   "metadata": {},
   "source": [
    "### 3.2 性别和儿童"
   ]
  },
  {
   "cell_type": "code",
   "execution_count": 13,
   "metadata": {},
   "outputs": [
    {
     "name": "stdout",
     "output_type": "stream",
     "text": [
      "                 Survived\n",
      "is_child Sex             \n",
      "adult    female       230\n",
      "         male         420\n",
      "child    female        31\n",
      "         male          33\n",
      "                 Survived\n",
      "is_child Sex             \n",
      "adult    female       178\n",
      "         male          74\n",
      "child    female        19\n",
      "         male          19\n"
     ]
    },
    {
     "data": {
      "text/plain": [
       "Text(0,0.5,'Survival Rate')"
      ]
     },
     "execution_count": 13,
     "metadata": {},
     "output_type": "execute_result"
    },
    {
     "data": {
      "image/png": "[encoded data removed]",
      "text/plain": [
       "<matplotlib.figure.Figure at 0x1e596fe1ba8>"
      ]
     },
     "metadata": {},
     "output_type": "display_data"
    }
   ],
   "source": [
    "#获取数据，抛弃异常值，并且根据年龄添加‘is_child’关键字来确定是否是儿童\n",
    "data_age_sex = data[['Survived', 'Age', 'Sex']].dropna()\n",
    "data_age_sex['is_child'] = data_age_sex['Age'].map(is_child)\n",
    "\n",
    "#删除'Age'列并计算生还几率\n",
    "group_age_sex = data_age_sex.drop('Age', axis=1).groupby(['is_child', 'Sex'])\n",
    "group_age_sex_total = group_age_sex.count()\n",
    "group_age_sex_survived = group_age_sex.sum()\n",
    "\n",
    "print(group_age_sex_total)\n",
    "print( group_age_sex_survived)\n",
    "\n",
    "group_age_sex_ratio = group_age_sex_survived / group_age_sex_total\n",
    "axis_age_sex = group_age_sex_ratio.unstack().plot(kind='bar')\n",
    "axis_age_sex.set_title('Sex and Age and Survival ratio')\n",
    "axis_age_sex.set_ylabel('Survival Rate')"
   ]
  },
  {
   "cell_type": "markdown",
   "metadata": {},
   "source": [
    "可以得出结论：女性的生还几率远高于男性，儿童的生还几率高于成人，但是儿童的生还几率不如女性成人，这是由于儿童样本数过少导致的。"
   ]
  },
  {
   "cell_type": "markdown",
   "metadata": {},
   "source": [
    "### 3.3 儿童和船舱等级"
   ]
  },
  {
   "cell_type": "code",
   "execution_count": 14,
   "metadata": {},
   "outputs": [
    {
     "name": "stdout",
     "output_type": "stream",
     "text": [
      "                 Survived\n",
      "is_child Pclass          \n",
      "adult    1            183\n",
      "         2            156\n",
      "         3            311\n",
      "child    1              3\n",
      "         2             17\n",
      "         3             44\n",
      "                 Survived\n",
      "is_child Pclass          \n",
      "adult    1            120\n",
      "         2             66\n",
      "         3             66\n",
      "child    1              2\n",
      "         2             17\n",
      "         3             19\n"
     ]
    },
    {
     "data": {
      "text/plain": [
       "Text(0,0.5,'Survival Rate')"
      ]
     },
     "execution_count": 14,
     "metadata": {},
     "output_type": "execute_result"
    },
    {
     "data": {
      "image/png": "[encoded data removed]",
      "text/plain": [
       "<matplotlib.figure.Figure at 0x1e596fe15f8>"
      ]
     },
     "metadata": {},
     "output_type": "display_data"
    }
   ],
   "source": [
    "#获取数据，抛弃异常值，并且根据年龄添加‘is_child’关键字来确定是否是儿童\n",
    "data_age_pclass = data[['Survived', 'Age', 'Pclass']].dropna()\n",
    "data_age_pclass['is_child'] = data_age_sex['Age'].map(is_child)\n",
    "\n",
    "#删除'Age'列并计算生还几率\n",
    "group_age_pclass = data_age_pclass.drop('Age', axis=1).groupby(['is_child', 'Pclass'])\n",
    "group_age_pclass_total = group_age_pclass.count()\n",
    "group_age_pclass_survived = group_age_pclass.sum()\n",
    "\n",
    "print( group_age_pclass_total)\n",
    "print( group_age_pclass_survived)\n",
    "\n",
    "group_age_pclass_ratio = group_age_pclass_survived / group_age_pclass_total\n",
    "axis_age_pclass = group_age_pclass_ratio.unstack().plot(kind='bar')\n",
    "axis_age_pclass.set_title('PClass and Age and Survival ratio')\n",
    "axis_age_pclass.set_ylabel('Survival Rate')"
   ]
  },
  {
   "cell_type": "markdown",
   "metadata": {},
   "source": [
    "可以得到结论：二等船舱的儿童生还率达到100%，高于一等船舱，这应该是由于一等船舱的儿童数量非常少，只有三个，因此一个儿童死亡导致整体生还率下降的非常多；总体说儿童的生还率都比相应船舱等级的成人要高。"
   ]
  },
  {
   "cell_type": "markdown",
   "metadata": {},
   "source": [
    "## 4 最终结论  \n",
    "经过上面的分析，可以得到以下结论：\n",
    "- 女性不论船舱等级，不论是否是儿童，生还率都远高于男性  \n",
    "- 儿童生还率也相应的高于成人  \n",
    "- 高级船舱的人生还几率更大  \n",
    "- 男性的生还几率主要与船舱等级有关，二三等级船舱的男性生还几率最低；而女性的生还几率与船舱等级有一定关系，即使是三等船舱的女性，生还率也比其他人高得多。  \n",
    "\n",
    "但是本次分析还存在以下问题： \n",
    "- 样本有部分缺失  \n",
    "- 无法判定采样是否随机，样本的分布于真实分布是否一致 \n",
    "- 样本数量较少\n",
    "因此，本次分析的结果并不能有效的证明“生还率”与这三个变量有直接关系。\n"
   ]
  }
 ],
 "metadata": {
  "kernelspec": {
   "display_name": "Python 3",
   "language": "python",
   "name": "python3"
  },
  "language_info": {
   "codemirror_mode": {
    "name": "ipython",
    "version": 3
   },
   "file_extension": ".py",
   "mimetype": "text/x-python",
   "name": "python",
   "nbconvert_exporter": "python",
   "pygments_lexer": "ipython3",
   "version": "3.6.3"
  }
 },
 "nbformat": 4,
 "nbformat_minor": 2
}
